{
 "cells": [
  {
   "cell_type": "markdown",
   "id": "bbabbd89",
   "metadata": {},
   "source": [
    "# Segmentez des clients d'un site e-commerce\n"
   ]
  },
  {
   "cell_type": "markdown",
   "id": "cba48725",
   "metadata": {},
   "source": [
    "## Notebook de simulation"
   ]
  },
  {
   "cell_type": "markdown",
   "id": "24cf1c86",
   "metadata": {},
   "source": [
    "#### Le modèle séléctionné est celui du KMeans avec 5 clusters. Je vais maintenant simuler le passage du temps et calculer le score de Rand pour savoir quand renouveler l'entrainement."
   ]
  },
  {
   "cell_type": "markdown",
   "id": "ef4d44c5",
   "metadata": {},
   "source": [
    "J'importe les librairies nécessaires."
   ]
  },
  {
   "cell_type": "code",
   "execution_count": 2,
   "id": "a58bd3d6",
   "metadata": {},
   "outputs": [],
   "source": [
    "import pandas as pd \n",
    "from sklearn.preprocessing import StandardScaler \n",
    "from sklearn import cluster, metrics\n",
    "import matplotlib.pyplot as plt \n",
    "from sklearn.metrics.cluster import adjusted_rand_score\n",
    "from datetime import datetime\n",
    "from datetime import timedelta\n",
    "from sklearn.cluster import KMeans \n",
    "import matplotlib.pyplot as plt\n",
    "import warnings\n",
    "warnings.filterwarnings(\"ignore\")\n",
    "import numpy as np"
   ]
  },
  {
   "cell_type": "markdown",
   "id": "ea5ea3ff",
   "metadata": {},
   "source": [
    "# <a name=\"C2\"> Travail de maintenance</a>"
   ]
  },
  {
   "cell_type": "markdown",
   "id": "764dfb3a",
   "metadata": {},
   "source": [
    "J'importe mes données. Je vais utiliser le dataframe concernant les commandes, que je vais trier dans l'ordre croissant par rapport aux dates de commandes."
   ]
  },
  {
   "cell_type": "code",
   "execution_count": 3,
   "id": "0d86a99f",
   "metadata": {},
   "outputs": [
    {
     "data": {
      "text/html": [
       "<div>\n",
       "<style scoped>\n",
       "    .dataframe tbody tr th:only-of-type {\n",
       "        vertical-align: middle;\n",
       "    }\n",
       "\n",
       "    .dataframe tbody tr th {\n",
       "        vertical-align: top;\n",
       "    }\n",
       "\n",
       "    .dataframe thead th {\n",
       "        text-align: right;\n",
       "    }\n",
       "</style>\n",
       "<table border=\"1\" class=\"dataframe\">\n",
       "  <thead>\n",
       "    <tr style=\"text-align: right;\">\n",
       "      <th></th>\n",
       "      <th>order_id</th>\n",
       "      <th>customer_id</th>\n",
       "      <th>order_status</th>\n",
       "      <th>order_purchase_timestamp</th>\n",
       "      <th>order_approved_at</th>\n",
       "      <th>order_delivered_carrier_date</th>\n",
       "      <th>order_delivered_customer_date</th>\n",
       "      <th>order_estimated_delivery_date</th>\n",
       "    </tr>\n",
       "  </thead>\n",
       "  <tbody>\n",
       "    <tr>\n",
       "      <th>4541</th>\n",
       "      <td>2e7a8482f6fb09756ca50c10d7bfc047</td>\n",
       "      <td>08c5351a6aca1c1589a38f244edeee9d</td>\n",
       "      <td>shipped</td>\n",
       "      <td>2016-09-04 21:15:19</td>\n",
       "      <td>2016-10-07 13:18:03</td>\n",
       "      <td>2016-10-18 13:14:51</td>\n",
       "      <td>NaN</td>\n",
       "      <td>2016-10-20 00:00:00</td>\n",
       "    </tr>\n",
       "    <tr>\n",
       "      <th>4396</th>\n",
       "      <td>e5fa5a7210941f7d56d0208e4e071d35</td>\n",
       "      <td>683c54fc24d40ee9f8a6fc179fd9856c</td>\n",
       "      <td>canceled</td>\n",
       "      <td>2016-09-05 00:15:34</td>\n",
       "      <td>2016-10-07 13:17:15</td>\n",
       "      <td>NaN</td>\n",
       "      <td>NaN</td>\n",
       "      <td>2016-10-28 00:00:00</td>\n",
       "    </tr>\n",
       "    <tr>\n",
       "      <th>10071</th>\n",
       "      <td>809a282bbd5dbcabb6f2f724fca862ec</td>\n",
       "      <td>622e13439d6b5a0b486c435618b2679e</td>\n",
       "      <td>canceled</td>\n",
       "      <td>2016-09-13 15:24:19</td>\n",
       "      <td>2016-10-07 13:16:46</td>\n",
       "      <td>NaN</td>\n",
       "      <td>NaN</td>\n",
       "      <td>2016-09-30 00:00:00</td>\n",
       "    </tr>\n",
       "    <tr>\n",
       "      <th>30710</th>\n",
       "      <td>bfbd0f9bdef84302105ad712db648a6c</td>\n",
       "      <td>86dc2ffce2dfff336de2f386a786e574</td>\n",
       "      <td>delivered</td>\n",
       "      <td>2016-09-15 12:16:38</td>\n",
       "      <td>2016-09-15 12:16:38</td>\n",
       "      <td>2016-11-07 17:11:53</td>\n",
       "      <td>2016-11-09 07:47:38</td>\n",
       "      <td>2016-10-04 00:00:00</td>\n",
       "    </tr>\n",
       "    <tr>\n",
       "      <th>83078</th>\n",
       "      <td>71303d7e93b399f5bcd537d124c0bcfa</td>\n",
       "      <td>b106b360fe2ef8849fbbd056f777b4d5</td>\n",
       "      <td>canceled</td>\n",
       "      <td>2016-10-02 22:07:52</td>\n",
       "      <td>2016-10-06 15:50:56</td>\n",
       "      <td>NaN</td>\n",
       "      <td>NaN</td>\n",
       "      <td>2016-10-25 00:00:00</td>\n",
       "    </tr>\n",
       "  </tbody>\n",
       "</table>\n",
       "</div>"
      ],
      "text/plain": [
       "                               order_id                       customer_id  \\\n",
       "4541   2e7a8482f6fb09756ca50c10d7bfc047  08c5351a6aca1c1589a38f244edeee9d   \n",
       "4396   e5fa5a7210941f7d56d0208e4e071d35  683c54fc24d40ee9f8a6fc179fd9856c   \n",
       "10071  809a282bbd5dbcabb6f2f724fca862ec  622e13439d6b5a0b486c435618b2679e   \n",
       "30710  bfbd0f9bdef84302105ad712db648a6c  86dc2ffce2dfff336de2f386a786e574   \n",
       "83078  71303d7e93b399f5bcd537d124c0bcfa  b106b360fe2ef8849fbbd056f777b4d5   \n",
       "\n",
       "      order_status order_purchase_timestamp    order_approved_at  \\\n",
       "4541       shipped      2016-09-04 21:15:19  2016-10-07 13:18:03   \n",
       "4396      canceled      2016-09-05 00:15:34  2016-10-07 13:17:15   \n",
       "10071     canceled      2016-09-13 15:24:19  2016-10-07 13:16:46   \n",
       "30710    delivered      2016-09-15 12:16:38  2016-09-15 12:16:38   \n",
       "83078     canceled      2016-10-02 22:07:52  2016-10-06 15:50:56   \n",
       "\n",
       "      order_delivered_carrier_date order_delivered_customer_date  \\\n",
       "4541           2016-10-18 13:14:51                           NaN   \n",
       "4396                           NaN                           NaN   \n",
       "10071                          NaN                           NaN   \n",
       "30710          2016-11-07 17:11:53           2016-11-09 07:47:38   \n",
       "83078                          NaN                           NaN   \n",
       "\n",
       "      order_estimated_delivery_date  \n",
       "4541            2016-10-20 00:00:00  \n",
       "4396            2016-10-28 00:00:00  \n",
       "10071           2016-09-30 00:00:00  \n",
       "30710           2016-10-04 00:00:00  \n",
       "83078           2016-10-25 00:00:00  "
      ]
     },
     "execution_count": 3,
     "metadata": {},
     "output_type": "execute_result"
    }
   ],
   "source": [
    "data1 = pd.read_csv(\"olist_orders_dataset.csv\")\n",
    "data1 = data1.sort_values(\"order_purchase_timestamp\")\n",
    "data1 = pd.DataFrame(data1)\n",
    "data1.head()"
   ]
  },
  {
   "cell_type": "markdown",
   "id": "a3da7012",
   "metadata": {},
   "source": [
    "La dernière commande à été enregistrée le 17/10/2018. Je décide de définir T0, la période de référence qui est comprise entre la date de la première commande jusqu'à un an avant la denrière commande. Donc T0 est compris entre le 04/09/2016 et le 17/10/2018."
   ]
  },
  {
   "cell_type": "code",
   "execution_count": 4,
   "id": "fb18c7f7",
   "metadata": {},
   "outputs": [],
   "source": [
    "data1 = data1.loc[(data1[\"order_purchase_timestamp\"]) <= \"2017-10-17\"]"
   ]
  },
  {
   "cell_type": "markdown",
   "id": "63861597",
   "metadata": {},
   "source": [
    "J'importe ensuite les autres dataframe dont j'ai besoin et je les fusionne à data1 puis je garde les colonnes qui m'intéressent."
   ]
  },
  {
   "cell_type": "code",
   "execution_count": 5,
   "id": "79e2147d",
   "metadata": {},
   "outputs": [
    {
     "data": {
      "text/html": [
       "<div>\n",
       "<style scoped>\n",
       "    .dataframe tbody tr th:only-of-type {\n",
       "        vertical-align: middle;\n",
       "    }\n",
       "\n",
       "    .dataframe tbody tr th {\n",
       "        vertical-align: top;\n",
       "    }\n",
       "\n",
       "    .dataframe thead th {\n",
       "        text-align: right;\n",
       "    }\n",
       "</style>\n",
       "<table border=\"1\" class=\"dataframe\">\n",
       "  <thead>\n",
       "    <tr style=\"text-align: right;\">\n",
       "      <th></th>\n",
       "      <th>customer_unique_id</th>\n",
       "      <th>order_purchase_timestamp</th>\n",
       "      <th>price</th>\n",
       "      <th>review_score</th>\n",
       "    </tr>\n",
       "  </thead>\n",
       "  <tbody>\n",
       "    <tr>\n",
       "      <th>0</th>\n",
       "      <td>b7d76e111c89f7ebf14761390f0f7d17</td>\n",
       "      <td>2016-09-04 21:15:19</td>\n",
       "      <td>39.99</td>\n",
       "      <td>1</td>\n",
       "    </tr>\n",
       "    <tr>\n",
       "      <th>1</th>\n",
       "      <td>b7d76e111c89f7ebf14761390f0f7d17</td>\n",
       "      <td>2016-09-04 21:15:19</td>\n",
       "      <td>32.90</td>\n",
       "      <td>1</td>\n",
       "    </tr>\n",
       "    <tr>\n",
       "      <th>2</th>\n",
       "      <td>4854e9b3feff728c13ee5fc7d1547e92</td>\n",
       "      <td>2016-09-05 00:15:34</td>\n",
       "      <td>59.50</td>\n",
       "      <td>1</td>\n",
       "    </tr>\n",
       "    <tr>\n",
       "      <th>3</th>\n",
       "      <td>830d5b7aaa3b6f1e9ad63703bec97d23</td>\n",
       "      <td>2016-09-15 12:16:38</td>\n",
       "      <td>44.99</td>\n",
       "      <td>1</td>\n",
       "    </tr>\n",
       "    <tr>\n",
       "      <th>4</th>\n",
       "      <td>830d5b7aaa3b6f1e9ad63703bec97d23</td>\n",
       "      <td>2016-09-15 12:16:38</td>\n",
       "      <td>44.99</td>\n",
       "      <td>1</td>\n",
       "    </tr>\n",
       "  </tbody>\n",
       "</table>\n",
       "</div>"
      ],
      "text/plain": [
       "                 customer_unique_id order_purchase_timestamp  price  \\\n",
       "0  b7d76e111c89f7ebf14761390f0f7d17      2016-09-04 21:15:19  39.99   \n",
       "1  b7d76e111c89f7ebf14761390f0f7d17      2016-09-04 21:15:19  32.90   \n",
       "2  4854e9b3feff728c13ee5fc7d1547e92      2016-09-05 00:15:34  59.50   \n",
       "3  830d5b7aaa3b6f1e9ad63703bec97d23      2016-09-15 12:16:38  44.99   \n",
       "4  830d5b7aaa3b6f1e9ad63703bec97d23      2016-09-15 12:16:38  44.99   \n",
       "\n",
       "   review_score  \n",
       "0             1  \n",
       "1             1  \n",
       "2             1  \n",
       "3             1  \n",
       "4             1  "
      ]
     },
     "execution_count": 5,
     "metadata": {},
     "output_type": "execute_result"
    }
   ],
   "source": [
    "data2 = pd.read_csv(\"olist_customers_dataset.csv\")\n",
    "data3 = pd.read_csv(\"olist_order_items_dataset.csv\")\n",
    "data4 = pd.read_csv(\"olist_order_reviews_dataset.csv\")\n",
    "data = pd.merge(data1, data2, on = \"customer_id\")\n",
    "data = pd.merge(data, data3, on = \"order_id\")\n",
    "data = pd.merge(data, data4, on = \"order_id\")\n",
    "data = data.loc[:, [\"customer_unique_id\", \"order_purchase_timestamp\", \"price\", \"review_score\"]]\n",
    "data.head()"
   ]
  },
  {
   "cell_type": "markdown",
   "id": "6168595a",
   "metadata": {},
   "source": [
    "J'agrège mes données."
   ]
  },
  {
   "cell_type": "code",
   "execution_count": 6,
   "id": "75dee6d5",
   "metadata": {},
   "outputs": [
    {
     "data": {
      "text/html": [
       "<div>\n",
       "<style scoped>\n",
       "    .dataframe tbody tr th:only-of-type {\n",
       "        vertical-align: middle;\n",
       "    }\n",
       "\n",
       "    .dataframe tbody tr th {\n",
       "        vertical-align: top;\n",
       "    }\n",
       "\n",
       "    .dataframe thead th {\n",
       "        text-align: right;\n",
       "    }\n",
       "</style>\n",
       "<table border=\"1\" class=\"dataframe\">\n",
       "  <thead>\n",
       "    <tr style=\"text-align: right;\">\n",
       "      <th></th>\n",
       "      <th>Recency</th>\n",
       "      <th>Frequency</th>\n",
       "      <th>Monetary</th>\n",
       "      <th>Average_review_score</th>\n",
       "    </tr>\n",
       "    <tr>\n",
       "      <th>customer_unique_id</th>\n",
       "      <th></th>\n",
       "      <th></th>\n",
       "      <th></th>\n",
       "      <th></th>\n",
       "    </tr>\n",
       "  </thead>\n",
       "  <tbody>\n",
       "    <tr>\n",
       "      <th>0000f46a3911fa3c0805444483337064</th>\n",
       "      <td>2017-03-10 21:05:03</td>\n",
       "      <td>1</td>\n",
       "      <td>69.00</td>\n",
       "      <td>3.0</td>\n",
       "    </tr>\n",
       "    <tr>\n",
       "      <th>0000f6ccb0745a6a4b88665a16c9f078</th>\n",
       "      <td>2017-10-12 20:29:41</td>\n",
       "      <td>1</td>\n",
       "      <td>25.99</td>\n",
       "      <td>4.0</td>\n",
       "    </tr>\n",
       "    <tr>\n",
       "      <th>0005e1862207bf6ccc02e4228effd9a0</th>\n",
       "      <td>2017-03-04 23:32:12</td>\n",
       "      <td>1</td>\n",
       "      <td>135.00</td>\n",
       "      <td>4.0</td>\n",
       "    </tr>\n",
       "    <tr>\n",
       "      <th>0006fdc98a402fceb4eb0ee528f6a8d4</th>\n",
       "      <td>2017-07-18 09:23:10</td>\n",
       "      <td>1</td>\n",
       "      <td>13.90</td>\n",
       "      <td>3.0</td>\n",
       "    </tr>\n",
       "    <tr>\n",
       "      <th>000a5ad9c4601d2bbdd9ed765d5213b3</th>\n",
       "      <td>2017-08-11 13:45:15</td>\n",
       "      <td>1</td>\n",
       "      <td>76.99</td>\n",
       "      <td>4.0</td>\n",
       "    </tr>\n",
       "  </tbody>\n",
       "</table>\n",
       "</div>"
      ],
      "text/plain": [
       "                                              Recency  Frequency  Monetary  \\\n",
       "customer_unique_id                                                           \n",
       "0000f46a3911fa3c0805444483337064  2017-03-10 21:05:03          1     69.00   \n",
       "0000f6ccb0745a6a4b88665a16c9f078  2017-10-12 20:29:41          1     25.99   \n",
       "0005e1862207bf6ccc02e4228effd9a0  2017-03-04 23:32:12          1    135.00   \n",
       "0006fdc98a402fceb4eb0ee528f6a8d4  2017-07-18 09:23:10          1     13.90   \n",
       "000a5ad9c4601d2bbdd9ed765d5213b3  2017-08-11 13:45:15          1     76.99   \n",
       "\n",
       "                                  Average_review_score  \n",
       "customer_unique_id                                      \n",
       "0000f46a3911fa3c0805444483337064                   3.0  \n",
       "0000f6ccb0745a6a4b88665a16c9f078                   4.0  \n",
       "0005e1862207bf6ccc02e4228effd9a0                   4.0  \n",
       "0006fdc98a402fceb4eb0ee528f6a8d4                   3.0  \n",
       "000a5ad9c4601d2bbdd9ed765d5213b3                   4.0  "
      ]
     },
     "execution_count": 6,
     "metadata": {},
     "output_type": "execute_result"
    }
   ],
   "source": [
    "data = data.groupby(\"customer_unique_id\").agg({\"order_purchase_timestamp\" : \"max\", \"customer_unique_id\" : \"count\",\n",
    "                                               \"price\": \"sum\", \"review_score\" : \"mean\"})\n",
    "\n",
    "data.rename(columns = {\"price\":\"Monetary\", \"order_purchase_timestamp\" : \"Recency\", \"customer_unique_id\" : \"Frequency\",\n",
    "                       \"review_score\" : \"Average_review_score\"}, inplace = True)\n",
    "data.head()"
   ]
  },
  {
   "cell_type": "code",
   "execution_count": 7,
   "id": "bbf4192b",
   "metadata": {},
   "outputs": [],
   "source": [
    "data[\"Recency\"] = pd.to_datetime(data[\"Recency\"])"
   ]
  },
  {
   "cell_type": "markdown",
   "id": "fc81519b",
   "metadata": {},
   "source": [
    "Je réalise mon feature engineering."
   ]
  },
  {
   "cell_type": "code",
   "execution_count": 8,
   "id": "990e4ecf",
   "metadata": {},
   "outputs": [
    {
     "data": {
      "text/html": [
       "<div>\n",
       "<style scoped>\n",
       "    .dataframe tbody tr th:only-of-type {\n",
       "        vertical-align: middle;\n",
       "    }\n",
       "\n",
       "    .dataframe tbody tr th {\n",
       "        vertical-align: top;\n",
       "    }\n",
       "\n",
       "    .dataframe thead th {\n",
       "        text-align: right;\n",
       "    }\n",
       "</style>\n",
       "<table border=\"1\" class=\"dataframe\">\n",
       "  <thead>\n",
       "    <tr style=\"text-align: right;\">\n",
       "      <th></th>\n",
       "      <th>Recency</th>\n",
       "      <th>Frequency</th>\n",
       "      <th>Monetary</th>\n",
       "      <th>Average_review_score</th>\n",
       "      <th>Average_shopping_basket</th>\n",
       "    </tr>\n",
       "    <tr>\n",
       "      <th>customer_unique_id</th>\n",
       "      <th></th>\n",
       "      <th></th>\n",
       "      <th></th>\n",
       "      <th></th>\n",
       "      <th></th>\n",
       "    </tr>\n",
       "  </thead>\n",
       "  <tbody>\n",
       "    <tr>\n",
       "      <th>0000f46a3911fa3c0805444483337064</th>\n",
       "      <td>2150</td>\n",
       "      <td>1</td>\n",
       "      <td>69.00</td>\n",
       "      <td>3.0</td>\n",
       "      <td>69.00</td>\n",
       "    </tr>\n",
       "    <tr>\n",
       "      <th>0000f6ccb0745a6a4b88665a16c9f078</th>\n",
       "      <td>1934</td>\n",
       "      <td>1</td>\n",
       "      <td>25.99</td>\n",
       "      <td>4.0</td>\n",
       "      <td>25.99</td>\n",
       "    </tr>\n",
       "    <tr>\n",
       "      <th>0005e1862207bf6ccc02e4228effd9a0</th>\n",
       "      <td>2156</td>\n",
       "      <td>1</td>\n",
       "      <td>135.00</td>\n",
       "      <td>4.0</td>\n",
       "      <td>135.00</td>\n",
       "    </tr>\n",
       "    <tr>\n",
       "      <th>0006fdc98a402fceb4eb0ee528f6a8d4</th>\n",
       "      <td>2021</td>\n",
       "      <td>1</td>\n",
       "      <td>13.90</td>\n",
       "      <td>3.0</td>\n",
       "      <td>13.90</td>\n",
       "    </tr>\n",
       "    <tr>\n",
       "      <th>000a5ad9c4601d2bbdd9ed765d5213b3</th>\n",
       "      <td>1997</td>\n",
       "      <td>1</td>\n",
       "      <td>76.99</td>\n",
       "      <td>4.0</td>\n",
       "      <td>76.99</td>\n",
       "    </tr>\n",
       "  </tbody>\n",
       "</table>\n",
       "</div>"
      ],
      "text/plain": [
       "                                  Recency  Frequency  Monetary  \\\n",
       "customer_unique_id                                               \n",
       "0000f46a3911fa3c0805444483337064     2150          1     69.00   \n",
       "0000f6ccb0745a6a4b88665a16c9f078     1934          1     25.99   \n",
       "0005e1862207bf6ccc02e4228effd9a0     2156          1    135.00   \n",
       "0006fdc98a402fceb4eb0ee528f6a8d4     2021          1     13.90   \n",
       "000a5ad9c4601d2bbdd9ed765d5213b3     1997          1     76.99   \n",
       "\n",
       "                                  Average_review_score  \\\n",
       "customer_unique_id                                       \n",
       "0000f46a3911fa3c0805444483337064                   3.0   \n",
       "0000f6ccb0745a6a4b88665a16c9f078                   4.0   \n",
       "0005e1862207bf6ccc02e4228effd9a0                   4.0   \n",
       "0006fdc98a402fceb4eb0ee528f6a8d4                   3.0   \n",
       "000a5ad9c4601d2bbdd9ed765d5213b3                   4.0   \n",
       "\n",
       "                                  Average_shopping_basket  \n",
       "customer_unique_id                                         \n",
       "0000f46a3911fa3c0805444483337064                    69.00  \n",
       "0000f6ccb0745a6a4b88665a16c9f078                    25.99  \n",
       "0005e1862207bf6ccc02e4228effd9a0                   135.00  \n",
       "0006fdc98a402fceb4eb0ee528f6a8d4                    13.90  \n",
       "000a5ad9c4601d2bbdd9ed765d5213b3                    76.99  "
      ]
     },
     "execution_count": 8,
     "metadata": {},
     "output_type": "execute_result"
    }
   ],
   "source": [
    "date = datetime.now()\n",
    "date = pd.to_datetime(date)\n",
    "data[\"Recency\"] = (date - data[\"Recency\"]).dt.days\n",
    "data[\"Average_shopping_basket\"] = data[\"Monetary\"] / data[\"Frequency\"]\n",
    "data.head()"
   ]
  },
  {
   "cell_type": "markdown",
   "id": "fd5ab357",
   "metadata": {},
   "source": [
    "J'ai mon premier dataframe que je renomme T0, car c'est ma première période de référence. Je fais un scaler de référence que je fit sur T0. Puis j'applique mon modèle sur T0 scalé."
   ]
  },
  {
   "cell_type": "code",
   "execution_count": 9,
   "id": "d274e459",
   "metadata": {},
   "outputs": [],
   "source": [
    "T0 = data\n",
    "km = KMeans(5)\n",
    "scaler = StandardScaler()\n",
    "\n",
    "scaler_ref = scaler.fit(T0)\n",
    "T0_scaled = scaler_ref.transform(T0)\n",
    "km0 = km.fit(T0_scaled)"
   ]
  },
  {
   "cell_type": "markdown",
   "id": "25dfbc7e",
   "metadata": {},
   "source": [
    "Je vais créer une fonction qui regroupe les étapes que j'ai réalisée pour trouver mon dataframe T0."
   ]
  },
  {
   "cell_type": "code",
   "execution_count": 10,
   "id": "c4afafde",
   "metadata": {},
   "outputs": [],
   "source": [
    "def creation(date):\n",
    "    data1 = pd.read_csv(\"olist_orders_dataset.csv\")\n",
    "    data1 = data1.loc[(data1[\"order_purchase_timestamp\"]) <= date]\n",
    "    data2 = pd.read_csv(\"olist_customers_dataset.csv\")\n",
    "    data3 = pd.read_csv(\"olist_order_items_dataset.csv\")\n",
    "    data4 = pd.read_csv(\"olist_order_reviews_dataset.csv\")\n",
    "    data = pd.merge(data1, data2, on = \"customer_id\")\n",
    "    data = pd.merge(data, data3, on = \"order_id\")\n",
    "    data = pd.merge(data, data4, on = \"order_id\")\n",
    "    data = data.loc[:, [\"customer_unique_id\", \"order_purchase_timestamp\", \"price\", \"review_score\"]]\n",
    "    data = data.groupby(\"customer_unique_id\").agg({\"order_purchase_timestamp\" : \"max\", \"customer_unique_id\" : \"count\",\n",
    "                                               \"price\": \"sum\", \"review_score\" : \"mean\"})\n",
    "\n",
    "    data.rename(columns = {\"price\":\"Monetary\", \"order_purchase_timestamp\" : \"Recency\", \"customer_unique_id\" : \"Frequency\",\n",
    "                       \"review_score\" : \"Average_review_score\"}, inplace = True)\n",
    "    data[\"Recency\"] = pd.to_datetime(data[\"Recency\"])\n",
    "    date = datetime.now()\n",
    "    date = pd.to_datetime(date)\n",
    "    data[\"Recency\"] = (date - data[\"Recency\"]).dt.days\n",
    "    data[\"Average_shopping_basket\"] = data[\"Monetary\"] / data[\"Frequency\"]\n",
    "    \n",
    "    return data   "
   ]
  },
  {
   "cell_type": "markdown",
   "id": "f685f2ee",
   "metadata": {},
   "source": [
    "Je réalise une boucle qui s'arrêtera lorsque l'ARI sera inférieur à 0.8 (score acceptable).\n",
    "Je vais créer plusieurs dataframe grâce à mon fonction \"creation\" avec un pas de 1 semaine.\n",
    "J'affiche l'ARI correspondant à chaque date."
   ]
  },
  {
   "cell_type": "code",
   "execution_count": 11,
   "id": "4851ee70",
   "metadata": {},
   "outputs": [
    {
     "name": "stdout",
     "output_type": "stream",
     "text": [
      "ARI à T0 :  1.0\n",
      "\n",
      "Date :  2017-10-24\n",
      "ARI:  0.9526266595094404\n",
      "\n",
      "Date :  2017-10-31\n",
      "ARI:  0.9291366218318539\n",
      "\n",
      "Date :  2017-11-07\n",
      "ARI:  0.9062743829592698\n",
      "\n",
      "Date :  2017-11-14\n",
      "ARI:  0.8762713215692884\n",
      "\n",
      "Date :  2017-11-21\n",
      "ARI:  0.8417804623495899\n",
      "\n",
      "Date :  2017-11-28\n",
      "ARI:  0.7640682844130908\n"
     ]
    }
   ],
   "source": [
    "ARI = adjusted_rand_score(km0.predict(T0_scaled), km0.predict(T0_scaled))\n",
    "print(\"ARI à T0 : \", ARI)\n",
    "date = datetime(2017,10,17)\n",
    "lst = [ARI]\n",
    "\n",
    "while ARI >= 0.8:\n",
    "    date += timedelta(weeks = 1)\n",
    "    date_str = date.strftime('%Y-%m-%d')\n",
    "    print (\"\\nDate : \", date_str)\n",
    "    T = creation(date_str)\n",
    "    km = KMeans(5)\n",
    "    scaler = StandardScaler()\n",
    "    T_scaled = scaler.fit_transform(T)\n",
    "    km = km.fit(T_scaled)\n",
    "    ARI = adjusted_rand_score(km0.predict(scaler_ref.transform(T)), km.predict(T_scaled))\n",
    "    lst = lst + [ARI]\n",
    "    print(\"ARI: \", ARI)  "
   ]
  },
  {
   "cell_type": "markdown",
   "id": "c809a4f3",
   "metadata": {},
   "source": [
    "J'affiche la courbe représentant l'évolution des scores ainsi que la courbe qui représente le score acceptable, à savoir y = 0.8."
   ]
  },
  {
   "cell_type": "code",
   "execution_count": 12,
   "id": "c9bee2cb",
   "metadata": {},
   "outputs": [
    {
     "data": {
      "image/png": "[encoded data removed]",
      "text/plain": [
       "<Figure size 640x480 with 1 Axes>"
      ]
     },
     "metadata": {},
     "output_type": "display_data"
    }
   ],
   "source": [
    "plt.plot([0, 1, 2, 3, 4, 5, 6], lst , label = \"KMeans ARI\")\n",
    "plt.plot([0, 1, 2, 3, 4, 5, 6], [0.8, 0.8, 0.8, 0.8, 0.8, 0.8, 0.8], label = \"Acceptable ARI\")\n",
    "plt.legend()\n",
    "plt.axis([0, 6, 0.5, 1])\n",
    "plt.title(\"Temporal stability of segmentation by KMeans\")\n",
    "plt.xlabel(\"Week\")\n",
    "plt.ylabel(\"ARI\")\n",
    "plt.grid()\n",
    "plt.show()"
   ]
  },
  {
   "cell_type": "markdown",
   "id": "a46f95b1",
   "metadata": {},
   "source": [
    "D'après le graph, on remarque que le modèle doit être réentraîné tous les 6 semaines environ."
   ]
  }
 ],
 "metadata": {
  "kernelspec": {
   "display_name": "Python 3 (ipykernel)",
   "language": "python",
   "name": "python3"
  },
  "language_info": {
   "codemirror_mode": {
    "name": "ipython",
    "version": 3
   },
   "file_extension": ".py",
   "mimetype": "text/x-python",
   "name": "python",
   "nbconvert_exporter": "python",
   "pygments_lexer": "ipython3",
   "version": "3.9.13"
  }
 },
 "nbformat": 4,
 "nbformat_minor": 5
}
